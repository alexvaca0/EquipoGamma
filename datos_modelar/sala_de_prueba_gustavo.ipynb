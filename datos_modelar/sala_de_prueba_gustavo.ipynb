{
 "cells": [
  {
   "cell_type": "code",
   "execution_count": 12,
   "metadata": {},
   "outputs": [],
   "source": [
    "# -*- coding: utf-8 -*-\n",
    "\"\"\"\n",
    "Created on Sat Feb  9 01:47:27 2019\n",
    "\n",
    "@author: avaca\n",
    "\"\"\"\n",
    "import pandas as pd\n",
    "import numpy as np\n",
    "\n",
    "import time\n",
    "from textblob import TextBlob\n",
    "\n",
    "import sklearn\n",
    "from sklearn.ensemble import RandomForestRegressor\n",
    "from sklearn import neighbors\n",
    "from sklearn.neighbors import KNeighborsClassifier\n",
    "\n",
    "from sklearn.linear_model import Ridge\n",
    "\n",
    "from sklearn.model_selection import train_test_split\n",
    "from sklearn.metrics import median_absolute_error, make_scorer\n",
    "from sklearn.model_selection import RandomizedSearchCV"
   ]
  },
  {
   "cell_type": "code",
   "execution_count": 4,
   "metadata": {},
   "outputs": [
    {
     "ename": "FileNotFoundError",
     "evalue": "File b'solo_img.csv' does not exist",
     "output_type": "error",
     "traceback": [
      "\u001b[1;31m---------------------------------------------------------------------------\u001b[0m",
      "\u001b[1;31mFileNotFoundError\u001b[0m                         Traceback (most recent call last)",
      "\u001b[1;32m<ipython-input-4-4af163fccdce>\u001b[0m in \u001b[0;36m<module>\u001b[1;34m()\u001b[0m\n\u001b[1;32m----> 1\u001b[1;33m \u001b[0msolo_img\u001b[0m \u001b[1;33m=\u001b[0m \u001b[0mpd\u001b[0m\u001b[1;33m.\u001b[0m\u001b[0mread_csv\u001b[0m\u001b[1;33m(\u001b[0m\u001b[1;34m'solo_img.csv'\u001b[0m\u001b[1;33m,\u001b[0m \u001b[0mencoding\u001b[0m \u001b[1;33m=\u001b[0m \u001b[1;34m\"utf-8\"\u001b[0m\u001b[1;33m)\u001b[0m\u001b[1;33m\u001b[0m\u001b[0m\n\u001b[0m",
      "\u001b[1;32mC:\\Anaconda3\\lib\\site-packages\\pandas\\io\\parsers.py\u001b[0m in \u001b[0;36mparser_f\u001b[1;34m(filepath_or_buffer, sep, delimiter, header, names, index_col, usecols, squeeze, prefix, mangle_dupe_cols, dtype, engine, converters, true_values, false_values, skipinitialspace, skiprows, nrows, na_values, keep_default_na, na_filter, verbose, skip_blank_lines, parse_dates, infer_datetime_format, keep_date_col, date_parser, dayfirst, iterator, chunksize, compression, thousands, decimal, lineterminator, quotechar, quoting, escapechar, comment, encoding, dialect, tupleize_cols, error_bad_lines, warn_bad_lines, skipfooter, doublequote, delim_whitespace, low_memory, memory_map, float_precision)\u001b[0m\n\u001b[0;32m    676\u001b[0m                     skip_blank_lines=skip_blank_lines)\n\u001b[0;32m    677\u001b[0m \u001b[1;33m\u001b[0m\u001b[0m\n\u001b[1;32m--> 678\u001b[1;33m         \u001b[1;32mreturn\u001b[0m \u001b[0m_read\u001b[0m\u001b[1;33m(\u001b[0m\u001b[0mfilepath_or_buffer\u001b[0m\u001b[1;33m,\u001b[0m \u001b[0mkwds\u001b[0m\u001b[1;33m)\u001b[0m\u001b[1;33m\u001b[0m\u001b[0m\n\u001b[0m\u001b[0;32m    679\u001b[0m \u001b[1;33m\u001b[0m\u001b[0m\n\u001b[0;32m    680\u001b[0m     \u001b[0mparser_f\u001b[0m\u001b[1;33m.\u001b[0m\u001b[0m__name__\u001b[0m \u001b[1;33m=\u001b[0m \u001b[0mname\u001b[0m\u001b[1;33m\u001b[0m\u001b[0m\n",
      "\u001b[1;32mC:\\Anaconda3\\lib\\site-packages\\pandas\\io\\parsers.py\u001b[0m in \u001b[0;36m_read\u001b[1;34m(filepath_or_buffer, kwds)\u001b[0m\n\u001b[0;32m    438\u001b[0m \u001b[1;33m\u001b[0m\u001b[0m\n\u001b[0;32m    439\u001b[0m     \u001b[1;31m# Create the parser.\u001b[0m\u001b[1;33m\u001b[0m\u001b[1;33m\u001b[0m\u001b[0m\n\u001b[1;32m--> 440\u001b[1;33m     \u001b[0mparser\u001b[0m \u001b[1;33m=\u001b[0m \u001b[0mTextFileReader\u001b[0m\u001b[1;33m(\u001b[0m\u001b[0mfilepath_or_buffer\u001b[0m\u001b[1;33m,\u001b[0m \u001b[1;33m**\u001b[0m\u001b[0mkwds\u001b[0m\u001b[1;33m)\u001b[0m\u001b[1;33m\u001b[0m\u001b[0m\n\u001b[0m\u001b[0;32m    441\u001b[0m \u001b[1;33m\u001b[0m\u001b[0m\n\u001b[0;32m    442\u001b[0m     \u001b[1;32mif\u001b[0m \u001b[0mchunksize\u001b[0m \u001b[1;32mor\u001b[0m \u001b[0miterator\u001b[0m\u001b[1;33m:\u001b[0m\u001b[1;33m\u001b[0m\u001b[0m\n",
      "\u001b[1;32mC:\\Anaconda3\\lib\\site-packages\\pandas\\io\\parsers.py\u001b[0m in \u001b[0;36m__init__\u001b[1;34m(self, f, engine, **kwds)\u001b[0m\n\u001b[0;32m    785\u001b[0m             \u001b[0mself\u001b[0m\u001b[1;33m.\u001b[0m\u001b[0moptions\u001b[0m\u001b[1;33m[\u001b[0m\u001b[1;34m'has_index_names'\u001b[0m\u001b[1;33m]\u001b[0m \u001b[1;33m=\u001b[0m \u001b[0mkwds\u001b[0m\u001b[1;33m[\u001b[0m\u001b[1;34m'has_index_names'\u001b[0m\u001b[1;33m]\u001b[0m\u001b[1;33m\u001b[0m\u001b[0m\n\u001b[0;32m    786\u001b[0m \u001b[1;33m\u001b[0m\u001b[0m\n\u001b[1;32m--> 787\u001b[1;33m         \u001b[0mself\u001b[0m\u001b[1;33m.\u001b[0m\u001b[0m_make_engine\u001b[0m\u001b[1;33m(\u001b[0m\u001b[0mself\u001b[0m\u001b[1;33m.\u001b[0m\u001b[0mengine\u001b[0m\u001b[1;33m)\u001b[0m\u001b[1;33m\u001b[0m\u001b[0m\n\u001b[0m\u001b[0;32m    788\u001b[0m \u001b[1;33m\u001b[0m\u001b[0m\n\u001b[0;32m    789\u001b[0m     \u001b[1;32mdef\u001b[0m \u001b[0mclose\u001b[0m\u001b[1;33m(\u001b[0m\u001b[0mself\u001b[0m\u001b[1;33m)\u001b[0m\u001b[1;33m:\u001b[0m\u001b[1;33m\u001b[0m\u001b[0m\n",
      "\u001b[1;32mC:\\Anaconda3\\lib\\site-packages\\pandas\\io\\parsers.py\u001b[0m in \u001b[0;36m_make_engine\u001b[1;34m(self, engine)\u001b[0m\n\u001b[0;32m   1012\u001b[0m     \u001b[1;32mdef\u001b[0m \u001b[0m_make_engine\u001b[0m\u001b[1;33m(\u001b[0m\u001b[0mself\u001b[0m\u001b[1;33m,\u001b[0m \u001b[0mengine\u001b[0m\u001b[1;33m=\u001b[0m\u001b[1;34m'c'\u001b[0m\u001b[1;33m)\u001b[0m\u001b[1;33m:\u001b[0m\u001b[1;33m\u001b[0m\u001b[0m\n\u001b[0;32m   1013\u001b[0m         \u001b[1;32mif\u001b[0m \u001b[0mengine\u001b[0m \u001b[1;33m==\u001b[0m \u001b[1;34m'c'\u001b[0m\u001b[1;33m:\u001b[0m\u001b[1;33m\u001b[0m\u001b[0m\n\u001b[1;32m-> 1014\u001b[1;33m             \u001b[0mself\u001b[0m\u001b[1;33m.\u001b[0m\u001b[0m_engine\u001b[0m \u001b[1;33m=\u001b[0m \u001b[0mCParserWrapper\u001b[0m\u001b[1;33m(\u001b[0m\u001b[0mself\u001b[0m\u001b[1;33m.\u001b[0m\u001b[0mf\u001b[0m\u001b[1;33m,\u001b[0m \u001b[1;33m**\u001b[0m\u001b[0mself\u001b[0m\u001b[1;33m.\u001b[0m\u001b[0moptions\u001b[0m\u001b[1;33m)\u001b[0m\u001b[1;33m\u001b[0m\u001b[0m\n\u001b[0m\u001b[0;32m   1015\u001b[0m         \u001b[1;32melse\u001b[0m\u001b[1;33m:\u001b[0m\u001b[1;33m\u001b[0m\u001b[0m\n\u001b[0;32m   1016\u001b[0m             \u001b[1;32mif\u001b[0m \u001b[0mengine\u001b[0m \u001b[1;33m==\u001b[0m \u001b[1;34m'python'\u001b[0m\u001b[1;33m:\u001b[0m\u001b[1;33m\u001b[0m\u001b[0m\n",
      "\u001b[1;32mC:\\Anaconda3\\lib\\site-packages\\pandas\\io\\parsers.py\u001b[0m in \u001b[0;36m__init__\u001b[1;34m(self, src, **kwds)\u001b[0m\n\u001b[0;32m   1706\u001b[0m         \u001b[0mkwds\u001b[0m\u001b[1;33m[\u001b[0m\u001b[1;34m'usecols'\u001b[0m\u001b[1;33m]\u001b[0m \u001b[1;33m=\u001b[0m \u001b[0mself\u001b[0m\u001b[1;33m.\u001b[0m\u001b[0musecols\u001b[0m\u001b[1;33m\u001b[0m\u001b[0m\n\u001b[0;32m   1707\u001b[0m \u001b[1;33m\u001b[0m\u001b[0m\n\u001b[1;32m-> 1708\u001b[1;33m         \u001b[0mself\u001b[0m\u001b[1;33m.\u001b[0m\u001b[0m_reader\u001b[0m \u001b[1;33m=\u001b[0m \u001b[0mparsers\u001b[0m\u001b[1;33m.\u001b[0m\u001b[0mTextReader\u001b[0m\u001b[1;33m(\u001b[0m\u001b[0msrc\u001b[0m\u001b[1;33m,\u001b[0m \u001b[1;33m**\u001b[0m\u001b[0mkwds\u001b[0m\u001b[1;33m)\u001b[0m\u001b[1;33m\u001b[0m\u001b[0m\n\u001b[0m\u001b[0;32m   1709\u001b[0m \u001b[1;33m\u001b[0m\u001b[0m\n\u001b[0;32m   1710\u001b[0m         \u001b[0mpassed_names\u001b[0m \u001b[1;33m=\u001b[0m \u001b[0mself\u001b[0m\u001b[1;33m.\u001b[0m\u001b[0mnames\u001b[0m \u001b[1;32mis\u001b[0m \u001b[1;32mNone\u001b[0m\u001b[1;33m\u001b[0m\u001b[0m\n",
      "\u001b[1;32mpandas\\_libs\\parsers.pyx\u001b[0m in \u001b[0;36mpandas._libs.parsers.TextReader.__cinit__\u001b[1;34m()\u001b[0m\n",
      "\u001b[1;32mpandas\\_libs\\parsers.pyx\u001b[0m in \u001b[0;36mpandas._libs.parsers.TextReader._setup_parser_source\u001b[1;34m()\u001b[0m\n",
      "\u001b[1;31mFileNotFoundError\u001b[0m: File b'solo_img.csv' does not exist"
     ]
    }
   ],
   "source": [
    "solo_img = pd.read_csv('solo_img.csv', encoding = \"utf-8\")"
   ]
  },
  {
   "cell_type": "code",
   "execution_count": null,
   "metadata": {},
   "outputs": [],
   "source": [
    "sin_img = pd.read_csv('sin_img.csv', encoding = 'utf-8')"
   ]
  },
  {
   "cell_type": "code",
   "execution_count": 5,
   "metadata": {},
   "outputs": [],
   "source": [
    "def word_count(str):\n",
    "    counts = dict()\n",
    "    words = str.split()\n",
    "\n",
    "    for word in words:\n",
    "        if word in counts:\n",
    "            counts[word] += 1\n",
    "        else:\n",
    "            counts[word] = 1\n",
    "\n",
    "    return counts\n",
    "\n",
    "def variables_from_text(text):\n",
    "    \n",
    "    rep = []\n",
    "    \n",
    "    #positividad = []\n",
    "    \n",
    "    longitud_palabras = []\n",
    "    \n",
    "    if text == \"\":\n",
    "        \n",
    "        rep.append(0)\n",
    "        \n",
    "        positividad.append(0)\n",
    "        \n",
    "        longitud_palabras.append(0)\n",
    "        \n",
    "        return rep, positividad, longitud_palabras\n",
    "        \n",
    "    else:\n",
    "        \n",
    "        counter = word_count(text)\n",
    "    \n",
    "        for key in counter.keys():\n",
    "            rep.append(counter[key])\n",
    "            \n",
    "            longitud_palabras.append(len(key))\n",
    "            \n",
    "        long_media = np.mean(longitud_palabras)\n",
    "        \n",
    "        rep_media = np.mean(rep)\n",
    "        \n",
    "        positividad = TextBlob(text).sentiment.polarity\n",
    "        \n",
    "        subjectivity = TextBlob(text).sentiment.subjectivity\n",
    "        \n",
    "        return rep_media, positividad, long_media, subjectivity\n",
    "    \n",
    "def fill_with_textvars(df):\n",
    "    \n",
    "    rep, pos, long, subj = [], [], [], []\n",
    "    \n",
    "    for i in range(df.shape[0]):\n",
    "        \n",
    "        r, p, l, s = variables_from_text(str(df['descr'].iloc[i]))\n",
    "        \n",
    "        rep.append(r)\n",
    "        \n",
    "        pos.append(p)\n",
    "        \n",
    "        long.append(l)\n",
    "        \n",
    "        subj.append(s)\n",
    "        \n",
    "    df['subj'] = subj\n",
    "    \n",
    "    df['pos'] = pos\n",
    "    \n",
    "    df['rep'] = rep\n",
    "    \n",
    "    df['long'] = long\n",
    "    \n",
    "    df.drop('descr', axis = 1, inplace = True)\n",
    "    \n",
    "    return df"
   ]
  },
  {
   "cell_type": "code",
   "execution_count": null,
   "metadata": {},
   "outputs": [],
   "source": [
    "sin_img = fill_with_textvars(sin_img)\n",
    "sin_img['exit_rate_page_views'] = sin_img['GA_exit_rate']*sin_img['GA_page_views']\n",
    "sin_img.drop('distr', axis = 1, inplace = True)\n",
    "sin_img['views_precio_metro'] =sin_img['GA_page_views'] * sin_img['precio_metros']"
   ]
  },
  {
   "cell_type": "markdown",
   "metadata": {},
   "source": [
    "# knn"
   ]
  },
  {
   "cell_type": "code",
   "execution_count": 6,
   "metadata": {},
   "outputs": [],
   "source": [
    "# esto era un xgb, vamos a cambiarlo para un kkneightbours\n",
    "\n",
    "k_range = list(range(1, 31))\n",
    "\n",
    "param_knn = dict(n_neighbors=k_range)"
   ]
  },
  {
   "cell_type": "markdown",
   "metadata": {},
   "source": [
    "# Random Forest"
   ]
  },
  {
   "cell_type": "code",
   "execution_count": 7,
   "metadata": {},
   "outputs": [],
   "source": [
    "n_estimators = [100, 300, 600, 900, 1000]\n",
    "\n",
    "# Número de features a considerar en cada split\n",
    "max_features = ['auto', 'sqrt']\n",
    "\n",
    " # Máximo número de niveles en el árbol\n",
    "max_depth = [None, 1, 2, 3]\n",
    "\n",
    "# Número mínimo de samples para hacer un split en un nodo\n",
    "min_samples_split = [2, 5, 10]\n",
    "\n",
    "    # Número mínimo de samples para cada hoja\n",
    "min_samples_leaf = [1, 2, 4]\n",
    "\n",
    "# Método de selección para cada árbol de entrenamiento\n",
    "bootstrap = [True, False]\n",
    "    \n",
    "params_rf = {'n_estimators': n_estimators,\n",
    "               'max_features': max_features,\n",
    "               'max_depth': max_depth,\n",
    "               'min_samples_split': min_samples_split,\n",
    "               'min_samples_leaf': min_samples_leaf,\n",
    "               'bootstrap': bootstrap}"
   ]
  },
  {
   "cell_type": "markdown",
   "metadata": {},
   "source": [
    "# Ridge"
   ]
  },
  {
   "cell_type": "code",
   "execution_count": 8,
   "metadata": {},
   "outputs": [],
   "source": [
    "alphas = np.array([1,0.1,0.01,0.001,0.0001,0])\n",
    "fit_interceptOptions = ([True, False])\n",
    "solverOptions = (['svd', 'cholesky', 'sparse_cg', 'sag'])\n",
    "\n",
    "param_ridge=dict(alpha=alphas, fit_intercept=fit_interceptOptions, solver=solverOptions)"
   ]
  },
  {
   "cell_type": "markdown",
   "metadata": {},
   "source": [
    "# Implementamos"
   ]
  },
  {
   "cell_type": "code",
   "execution_count": 10,
   "metadata": {},
   "outputs": [],
   "source": [
    "parametros = [param_knn , params_rf, param_ridge]\n",
    "#los parámetros que le pasaremos a grid. "
   ]
  },
  {
   "cell_type": "code",
   "execution_count": 16,
   "metadata": {},
   "outputs": [],
   "source": [
    "dic = {'estimadores':[KNeighborsClassifier(n_jobs=-1),\n",
    "                      RandomForestRegressor(n_jobs=-1, verbose = 1),\n",
    "                      Ridge()],\n",
    "      'parametros':parametros,\n",
    "      'nombres': ['knn','rf','ridge']\n",
    "      }"
   ]
  },
  {
   "cell_type": "markdown",
   "metadata": {},
   "source": [
    "# RandomisezSearchCV"
   ]
  },
  {
   "cell_type": "code",
   "execution_count": null,
   "metadata": {},
   "outputs": [],
   "source": [
    "def primera_prueba(d = solo_img, d2 = sin_img,  seed = 10, dic = dic): \n",
    "    t_0 = time.clock()\n",
    "    \n",
    "    #Vamos primero a sacar las matrices:\n",
    "    X = d.drop('TARGET', axis = 1)\n",
    "    y = d['TARGET']\n",
    "    X_train, X_test, y_train, y_test = train_test_split(X, y,\n",
    "                                                        test_size = 0.15,\n",
    "                                                        random_state = seed)\n",
    "    mydict = {} \n",
    "    mydict['actual'] = np.expm1(y_test)\n",
    "    mydict['models'] = {}\n",
    "    scorer = make_scorer(median_absolute_error)\n",
    "    \n",
    "    for model, p, n in zip(dic['estimadores'], dic['parametros'], dic['nombres']):    \n",
    "        m = model\n",
    "        m_gs = RandomizedSearchCV(estimator = m,\n",
    "                                 param_distributions = p,\n",
    "                                 n_iter = 20,\n",
    "                                  verbose = 1,\n",
    "                                  scoring = scorer,\n",
    "                                  cv=5,\n",
    "                                  n_jobs = -1)\n",
    "        t_ = time.clock()\n",
    "        m_gs.fit(X_train, y_train)\n",
    "        t_tr = time.clock() - t_    \n",
    "        t_ = time.clock()\n",
    "        preds = np.expm1(m_gs.predict(X_test))   \n",
    "        t_pr = time.clock() - t_\n",
    "        \n",
    "        mydict['models'][n] = {} \n",
    "        mydict['models'][n]['predictions'] = preds\n",
    "        mydict['models'][n]['error'] = median_absolute_error(mydict['actual'], mydict['models'][n]['predictions'])\n",
    "        mydict['models'][n]['time_training'] = t_tr\n",
    "        mydict['models'][n]['time_predicting'] = t_pr\n",
    "        mydict['models'][n]['model'] = m_gs\n",
    "    print('Llevamos funcionando' +str(time.clock() - t_0) + 'segundos; ya está hecha la primera parte. Faltan 2')\n",
    "    X = d2.drop('TARGET', axis = 1)\n",
    "    y = d2['TARGET']\n",
    "    X_train, X_test, y_train, y_test = train_test_split(X, y,\n",
    "                                                        test_size = 0.15,\n",
    "                                                        random_state = seed)\n",
    "    mydict2 = {}\n",
    "    mydict2['actual'] = np.expm1(y_test)\n",
    "    mydict2['models'] = {}\n",
    "    \n",
    "    for model, p, n in zip(dic['estimadores'], dic['parametros'], dic['nombres']):\n",
    "        m = model\n",
    "        m_gs = RandomizedSearchCV(estimator = m,\n",
    "                                 param_distributions = p,\n",
    "                                 n_iter = 20,\n",
    "                                  verbose = 1,\n",
    "                                  scoring = scorer,\n",
    "                                  cv=5,\n",
    "                                  n_jobs = -1)\n",
    "        t_ = time.clock()\n",
    "        m_gs.fit(X_train, y_train)\n",
    "        t_tr = time.clock() - t_\n",
    "        t_ = time.clock()\n",
    "        preds = np.expm1(m_gs.predict(X_test))\n",
    "        t_pr = time.clock() - t_\n",
    "        \n",
    "        mydict2['models'][n] = {}\n",
    "        mydict2['models'][n]['predictions'] = preds\n",
    "        mydict2['models'][n]['error'] = median_absolute_error(mydict2['actual'], mydict2['models'][n]['predictions'])\n",
    "        mydict2['models'][n]['time_training'] = t_tr\n",
    "        mydict2['models'][n]['time_predicting'] = t_pr\n",
    "        mydict2['models'][n]['model'] = m_gs\n",
    "    print('Realizada segunda parte de la prueba, time elapsed=' + str(time.clock() - t_0))\n",
    "    complete = pd.concat([d, d2.drop('TARGET', axis = 1)])  \n",
    "    X, y = complete.drop('TARGET', axis = 1), complete['TARGET']\n",
    "    \n",
    "    X_train, X_test, y_train, y_test = train_test_split(X, y,\n",
    "                                                        test_size = 0.15,\n",
    "                                                        random_state = seed)\n",
    "    mydict3 = {}\n",
    "    mydict3['actual'] = np.expm1(y_test)\n",
    "    mydict3['models'] = {}\n",
    "    for model, p, n in zip(dic['estimadores'], dic['parametros'], dic['nombres']):\n",
    "        m = model\n",
    "        m_gs = RandomizedSearchCV(estimator = m,\n",
    "                                  param_distributions = p,\n",
    "                                  n_iter = 20,\n",
    "                                  verbose = 1,\n",
    "                                  scoring = scorer,\n",
    "                                  cv=5,\n",
    "                                  n_jobs = -1)\n",
    "        t_ = time.clock()\n",
    "        m_gs.fit(X_train, y_train)\n",
    "        t_tr = time.clock() - t_\n",
    "        t_ = time.clock()\n",
    "        preds = np.expm1(m_gs.predict(X_test))\n",
    "        t_pr = time.clock() - t_\n",
    "        \n",
    "        mydict3['models'][n] = {}\n",
    "        mydict3['models'][n]['predictions'] = preds\n",
    "        mydict3['models'][n]['error'] = median_absolute_error(mydict3['actual'], mydict3['models'][n]['predictions'])\n",
    "        mydict3['models'][n]['time_training'] = t_tr\n",
    "        mydict3['models'][n]['time_predicting'] = t_pr\n",
    "        mydict3['models'][n]['model'] = m_gs\n",
    "    print('Hecha la tercera parte de la prueba. Ya puedes ver los resultados; tiempo total: ' + str(time.clock() - t_0))\n",
    "    \n",
    "    return mydict, mydict2, mydict3\n",
    "        "
   ]
  },
  {
   "cell_type": "code",
   "execution_count": null,
   "metadata": {},
   "outputs": [],
   "source": [
    "res_sin, res_con, res_total = primera_prueba()"
   ]
  }
 ],
 "metadata": {
  "kernelspec": {
   "display_name": "Python 3",
   "language": "python",
   "name": "python3"
  },
  "language_info": {
   "codemirror_mode": {
    "name": "ipython",
    "version": 3
   },
   "file_extension": ".py",
   "mimetype": "text/x-python",
   "name": "python",
   "nbconvert_exporter": "python",
   "pygments_lexer": "ipython3",
   "version": "3.6.5"
  },
  "varInspector": {
   "cols": {
    "lenName": 16,
    "lenType": 16,
    "lenVar": 40
   },
   "kernels_config": {
    "python": {
     "delete_cmd_postfix": "",
     "delete_cmd_prefix": "del ",
     "library": "var_list.py",
     "varRefreshCmd": "print(var_dic_list())"
    },
    "r": {
     "delete_cmd_postfix": ") ",
     "delete_cmd_prefix": "rm(",
     "library": "var_list.r",
     "varRefreshCmd": "cat(var_dic_list()) "
    }
   },
   "types_to_exclude": [
    "module",
    "function",
    "builtin_function_or_method",
    "instance",
    "_Feature"
   ],
   "window_display": false
  }
 },
 "nbformat": 4,
 "nbformat_minor": 2
}
