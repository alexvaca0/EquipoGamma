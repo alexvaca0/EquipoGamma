{
 "cells": [
  {
   "cell_type": "code",
   "execution_count": 23,
   "metadata": {},
   "outputs": [],
   "source": [
    "# -*- coding: utf-8 -*-\n",
    "\"\"\"\n",
    "Created on Sat Feb  9 01:47:27 2019\n",
    "\n",
    "@author: avaca\n",
    "\"\"\"\n",
    "import pandas as pd\n",
    "import numpy as np\n",
    "import pickle\n",
    "from sklearn.ensemble import RandomForestRegressor\n",
    "from sklearn.ensemble import ExtraTreesRegressor\n",
    "from sklearn.metrics import median_absolute_error\n",
    "from sklearn.model_selection import train_test_split\n",
    "from sklearn.model_selection import GridSearchCV\n",
    "from sklearn.metrics import make_scorer\n",
    "\n",
    "data = pd.read_csv('transformados04.csv')\n",
    "data['exit_rate_page_views'] = data['GA_exit_rate']*data['GA_page_views']\n",
    "data['views_precio_metro'] = data['GA_page_views'] * data['precio_metros']\n",
    "target = data['TARGET']"
   ]
  },
  {
   "cell_type": "code",
   "execution_count": 24,
   "metadata": {},
   "outputs": [],
   "source": [
    "Xt = data.drop(['TARGET'], axis = 1)\n",
    "\n",
    "yt = data['TARGET']"
   ]
  },
  {
   "cell_type": "code",
   "execution_count": 25,
   "metadata": {},
   "outputs": [],
   "source": [
    "X_train, X_test, y_train, y_test = train_test_split(Xt, yt,\n",
    "                                                    test_size = 0.1,\n",
    "                                                    random_state = 69)"
   ]
  },
  {
   "cell_type": "markdown",
   "metadata": {},
   "source": [
    "# Parámetros"
   ]
  },
  {
   "cell_type": "code",
   "execution_count": 26,
   "metadata": {},
   "outputs": [],
   "source": [
    "# Número de árboles en el random forest\n",
    "n_estimators = [int(x) for x in np.linspace(start = 500, stop = 1200, num = 50)]\n",
    "\n",
    "# Número de features a considerar en cada split\n",
    "max_features = ['auto', 'sqrt']\n",
    "\n",
    "# Máximo número de niveles en el árbol\n",
    "max_depth = [None, 1, 2, 3]\n",
    "\n",
    "# Número mínimo de samples para hacer un split en un nodo\n",
    "min_samples_split = [2, 5, 10]\n",
    "\n",
    "# Número mínimo de samples para cada hoja\n",
    "min_samples_leaf = [1, 2, 4]\n",
    "\n",
    "# Método de selección para cada árbol de entrenamiento\n",
    "bootstrap = [True, False]"
   ]
  },
  {
   "cell_type": "code",
   "execution_count": 31,
   "metadata": {},
   "outputs": [],
   "source": [
    "param_grid = {'n_estimators': [500],\n",
    "               'max_features': ['auto'],\n",
    "               'max_depth': [1],\n",
    "               'min_samples_split': [2,5],\n",
    "               'min_samples_leaf': [2],\n",
    "               'bootstrap': [True]}"
   ]
  },
  {
   "cell_type": "code",
   "execution_count": 28,
   "metadata": {},
   "outputs": [],
   "source": [
    "scorer = make_scorer(median_absolute_error)"
   ]
  },
  {
   "cell_type": "markdown",
   "metadata": {},
   "source": [
    "# RandomForest"
   ]
  },
  {
   "cell_type": "code",
   "execution_count": 32,
   "metadata": {},
   "outputs": [],
   "source": [
    "rf = GridSearchCV(RandomForestRegressor(criterion=\"mse\"),\n",
    "                  param_grid,\n",
    "                  cv = 5,\n",
    "                  scoring = scorer,\n",
    "                  n_jobs = -1,\n",
    "                  verbose = 1)"
   ]
  },
  {
   "cell_type": "code",
   "execution_count": 33,
   "metadata": {},
   "outputs": [
    {
     "name": "stdout",
     "output_type": "stream",
     "text": [
      "Fitting 5 folds for each of 2 candidates, totalling 10 fits\n"
     ]
    },
    {
     "name": "stderr",
     "output_type": "stream",
     "text": [
      "[Parallel(n_jobs=-1)]: Done  10 out of  10 | elapsed:   35.1s finished\n"
     ]
    },
    {
     "data": {
      "text/plain": [
       "26.845877129212248"
      ]
     },
     "execution_count": 33,
     "metadata": {},
     "output_type": "execute_result"
    }
   ],
   "source": [
    "rf.fit(X_train, y_train)\n",
    "\n",
    "pred_rf = np.exp(rf.predict(X_test)) - 1\n",
    "pred_rf = pred_rf.reshape(-1, 1)\n",
    "\n",
    "df = pd.DataFrame(np.exp(y_test)-1 , index = y_test.index)\n",
    "df.columns = ['TARGET']\n",
    "df['pred_rf'] = pred_rf\n",
    "\n",
    "median_absolute_error(df['TARGET'],df['pred_rf'])"
   ]
  },
  {
   "cell_type": "code",
   "execution_count": 34,
   "metadata": {},
   "outputs": [],
   "source": [
    "filename = 'random_forest_gridsearchcv1.sav'\n",
    "pickle.dump(rf.best_estimator_, open(filename, 'wb'))"
   ]
  },
  {
   "cell_type": "markdown",
   "metadata": {},
   "source": [
    "# ExtraTreesRegressor"
   ]
  },
  {
   "cell_type": "code",
   "execution_count": 37,
   "metadata": {},
   "outputs": [],
   "source": [
    "etr = GridSearchCV(ExtraTreesRegressor(criterion=\"mse\"),\n",
    "                   param_grid,\n",
    "                   cv = 5,\n",
    "                   scoring = scorer,\n",
    "                   n_jobs = -1,\n",
    "                   verbose = 1)"
   ]
  },
  {
   "cell_type": "code",
   "execution_count": 38,
   "metadata": {},
   "outputs": [
    {
     "name": "stdout",
     "output_type": "stream",
     "text": [
      "Fitting 5 folds for each of 2 candidates, totalling 10 fits\n"
     ]
    },
    {
     "name": "stderr",
     "output_type": "stream",
     "text": [
      "[Parallel(n_jobs=-1)]: Done  10 out of  10 | elapsed:   13.2s finished\n"
     ]
    },
    {
     "data": {
      "text/plain": [
       "25.73169263002879"
      ]
     },
     "execution_count": 38,
     "metadata": {},
     "output_type": "execute_result"
    }
   ],
   "source": [
    "etr.fit(X_train, y_train)\n",
    "\n",
    "pred_etr = np.exp(etr.predict(X_test)) - 1\n",
    "pred_etr = pred_etr.reshape(-1, 1)\n",
    "\n",
    "df['pred_etr'] = pred_etr\n",
    "\n",
    "median_absolute_error(df['TARGET'],df['pred_etr'])"
   ]
  },
  {
   "cell_type": "code",
   "execution_count": 39,
   "metadata": {},
   "outputs": [],
   "source": [
    "filename = 'extra_trees_gridsearchcv1.sav'\n",
    "pickle.dump(etr.best_estimator_, open(filename, 'wb'))"
   ]
  }
 ],
 "metadata": {
  "kernelspec": {
   "display_name": "Python 3",
   "language": "python",
   "name": "python3"
  },
  "language_info": {
   "codemirror_mode": {
    "name": "ipython",
    "version": 3
   },
   "file_extension": ".py",
   "mimetype": "text/x-python",
   "name": "python",
   "nbconvert_exporter": "python",
   "pygments_lexer": "ipython3",
   "version": "3.6.5"
  },
  "varInspector": {
   "cols": {
    "lenName": 16,
    "lenType": 16,
    "lenVar": 40
   },
   "kernels_config": {
    "python": {
     "delete_cmd_postfix": "",
     "delete_cmd_prefix": "del ",
     "library": "var_list.py",
     "varRefreshCmd": "print(var_dic_list())"
    },
    "r": {
     "delete_cmd_postfix": ") ",
     "delete_cmd_prefix": "rm(",
     "library": "var_list.r",
     "varRefreshCmd": "cat(var_dic_list()) "
    }
   },
   "types_to_exclude": [
    "module",
    "function",
    "builtin_function_or_method",
    "instance",
    "_Feature"
   ],
   "window_display": false
  }
 },
 "nbformat": 4,
 "nbformat_minor": 2
}
