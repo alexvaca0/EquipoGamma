{
 "cells": [
  {
   "cell_type": "code",
   "execution_count": 2,
   "metadata": {},
   "outputs": [],
   "source": [
    "# -*- coding: utf-8 -*-\n",
    "\"\"\"\n",
    "Created on Sat Feb  9 01:47:27 2019\n",
    "\n",
    "@author: avaca\n",
    "\"\"\"\n",
    "import pandas as pd\n",
    "import numpy as np\n",
    "import pickle\n",
    "from sklearn.ensemble import RandomForestRegressor\n",
    "from sklearn.ensemble import ExtraTreesRegressor\n",
    "from sklearn.metrics import median_absolute_error\n",
    "from sklearn.model_selection import train_test_split\n",
    "from sklearn.model_selection import GridSearchCV\n",
    "from sklearn.model_selection import RandomizedSearchCV\n",
    "from sklearn.metrics import make_scorer"
   ]
  },
  {
   "cell_type": "code",
   "execution_count": 3,
   "metadata": {},
   "outputs": [],
   "source": [
    "data = pd.read_csv('transformados04.csv')"
   ]
  },
  {
   "cell_type": "code",
   "execution_count": 4,
   "metadata": {},
   "outputs": [],
   "source": [
    "data['exit_rate_page_views'] = data['GA_exit_rate']*data['GA_page_views']\n",
    "data['views_precio_metro'] = data['GA_page_views'] * data['precio_metros']\n",
    "target = data['TARGET']"
   ]
  },
  {
   "cell_type": "code",
   "execution_count": 5,
   "metadata": {},
   "outputs": [],
   "source": [
    "Xt = data.drop(['TARGET'], axis = 1)\n",
    "\n",
    "yt = data['TARGET']"
   ]
  },
  {
   "cell_type": "code",
   "execution_count": 6,
   "metadata": {},
   "outputs": [],
   "source": [
    "X_train, X_test, y_train, y_test = train_test_split(Xt, yt,\n",
    "                                                    test_size = 0.1,\n",
    "                                                    random_state = 69)"
   ]
  },
  {
   "cell_type": "markdown",
   "metadata": {},
   "source": [
    "# Parámetros"
   ]
  },
  {
   "cell_type": "code",
   "execution_count": 7,
   "metadata": {},
   "outputs": [],
   "source": [
    "# Número de árboles en el random forest\n",
    "n_estimators = [int(x) for x in np.linspace(start = 200, stop = 1100, num = 100)]\n",
    "\n",
    "# Número de features a considerar en cada split\n",
    "max_features = ['auto', 'sqrt']\n",
    "\n",
    "# Máximo número de niveles en el árbol\n",
    "max_depth = [None, 1, 2, 3]\n",
    "\n",
    "# Número mínimo de samples para hacer un split en un nodo\n",
    "min_samples_split = [2, 5, 10]\n",
    "\n",
    "# Número mínimo de samples para cada hoja\n",
    "min_samples_leaf = [1, 2, 4]\n",
    "\n",
    "# Método de selección para cada árbol de entrenamiento\n",
    "bootstrap = [True, False]"
   ]
  },
  {
   "cell_type": "code",
   "execution_count": 9,
   "metadata": {},
   "outputs": [],
   "source": [
    "param_grid = {'n_estimators': n_estimators,\n",
    "               'max_features': max_features,\n",
    "               'max_depth': max_depth,\n",
    "               'min_samples_split': min_samples_split,\n",
    "               'min_samples_leaf': min_samples_leaf,\n",
    "               'bootstrap': bootstrap}"
   ]
  },
  {
   "cell_type": "code",
   "execution_count": 10,
   "metadata": {},
   "outputs": [],
   "source": [
    "scorer = make_scorer(median_absolute_error)"
   ]
  },
  {
   "cell_type": "code",
   "execution_count": 18,
   "metadata": {},
   "outputs": [],
   "source": [
    "def report(results, n_top=3):\n",
    "    for i in range(1, n_top + 1):\n",
    "        candidates = np.flatnonzero(results['rank_test_score'] == i)\n",
    "        for candidate in candidates:\n",
    "            print(\"Model with rank: {0}\".format(i))\n",
    "            print(\"Mean validation score: {0:.3f} (std: {1:.3f})\".format(\n",
    "                  results['mean_test_score'][candidate],\n",
    "                  results['std_test_score'][candidate]))\n",
    "            print(\"Parameters: {0}\".format(results['params'][candidate]))\n",
    "            print(\"\")"
   ]
  },
  {
   "cell_type": "markdown",
   "metadata": {},
   "source": [
    "# RandomForest"
   ]
  },
  {
   "cell_type": "code",
   "execution_count": 36,
   "metadata": {},
   "outputs": [],
   "source": [
    "# rf = GridSearchCV(RandomForestRegressor(criterion=\"mse\"),\n",
    "#                   param_grid,\n",
    "#                   cv = 5,\n",
    "#                   scoring = scorer,\n",
    "#                   n_jobs = -1,\n",
    "#                   verbose = 1)"
   ]
  },
  {
   "cell_type": "code",
   "execution_count": 12,
   "metadata": {},
   "outputs": [],
   "source": [
    "n_iteration = 20"
   ]
  },
  {
   "cell_type": "code",
   "execution_count": 13,
   "metadata": {},
   "outputs": [],
   "source": [
    "rf = RandomizedSearchCV(RandomForestRegressor(criterion=\"mse\"), param_grid, cv = 5,n_iter=n_iteration,\n",
    "                        scoring = scorer, n_jobs = -1, verbose = 1)"
   ]
  },
  {
   "cell_type": "code",
   "execution_count": 14,
   "metadata": {},
   "outputs": [
    {
     "name": "stdout",
     "output_type": "stream",
     "text": [
      "Fitting 5 folds for each of 20 candidates, totalling 100 fits\n"
     ]
    },
    {
     "name": "stderr",
     "output_type": "stream",
     "text": [
      "[Parallel(n_jobs=-1)]: Done  42 tasks      | elapsed: 18.2min\n",
      "[Parallel(n_jobs=-1)]: Done 100 out of 100 | elapsed: 41.3min finished\n"
     ]
    },
    {
     "data": {
      "text/plain": [
       "24.058408112399626"
      ]
     },
     "execution_count": 14,
     "metadata": {},
     "output_type": "execute_result"
    }
   ],
   "source": [
    "rf.fit(X_train, y_train)\n",
    "\n",
    "pred_rf = np.exp(rf.predict(X_test)) - 1\n",
    "pred_rf = pred_rf.reshape(-1, 1)\n",
    "\n",
    "df = pd.DataFrame(np.exp(y_test)-1 , index = y_test.index)\n",
    "df.columns = ['TARGET']\n",
    "df['pred_rf'] = pred_rf\n",
    "\n",
    "median_absolute_error(df['TARGET'],df['pred_rf'])"
   ]
  },
  {
   "cell_type": "code",
   "execution_count": 22,
   "metadata": {},
   "outputs": [
    {
     "name": "stdout",
     "output_type": "stream",
     "text": [
      "Model with rank: 1\n",
      "Mean validation score: 0.549 (std: 0.014)\n",
      "Parameters: {'n_estimators': 872, 'min_samples_split': 2, 'min_samples_leaf': 4, 'max_features': 'sqrt', 'max_depth': 1, 'bootstrap': False}\n",
      "\n",
      "Model with rank: 2\n",
      "Mean validation score: 0.548 (std: 0.016)\n",
      "Parameters: {'n_estimators': 763, 'min_samples_split': 5, 'min_samples_leaf': 2, 'max_features': 'auto', 'max_depth': 1, 'bootstrap': True}\n",
      "\n",
      "Model with rank: 3\n",
      "Mean validation score: 0.548 (std: 0.016)\n",
      "Parameters: {'n_estimators': 427, 'min_samples_split': 10, 'min_samples_leaf': 2, 'max_features': 'auto', 'max_depth': 1, 'bootstrap': False}\n",
      "\n",
      "Model with rank: 4\n",
      "Mean validation score: 0.529 (std: 0.012)\n",
      "Parameters: {'n_estimators': 918, 'min_samples_split': 10, 'min_samples_leaf': 1, 'max_features': 'auto', 'max_depth': None, 'bootstrap': False}\n",
      "\n",
      "Model with rank: 5\n",
      "Mean validation score: 0.525 (std: 0.016)\n",
      "Parameters: {'n_estimators': 836, 'min_samples_split': 2, 'min_samples_leaf': 1, 'max_features': 'sqrt', 'max_depth': 2, 'bootstrap': True}\n",
      "\n",
      "Model with rank: 6\n",
      "Mean validation score: 0.523 (std: 0.015)\n",
      "Parameters: {'n_estimators': 227, 'min_samples_split': 10, 'min_samples_leaf': 1, 'max_features': 'sqrt', 'max_depth': 2, 'bootstrap': False}\n",
      "\n",
      "Model with rank: 7\n",
      "Mean validation score: 0.522 (std: 0.009)\n",
      "Parameters: {'n_estimators': 281, 'min_samples_split': 2, 'min_samples_leaf': 4, 'max_features': 'auto', 'max_depth': None, 'bootstrap': False}\n",
      "\n",
      "Model with rank: 8\n",
      "Mean validation score: 0.521 (std: 0.007)\n",
      "Parameters: {'n_estimators': 645, 'min_samples_split': 10, 'min_samples_leaf': 2, 'max_features': 'auto', 'max_depth': None, 'bootstrap': False}\n",
      "\n",
      "Model with rank: 9\n",
      "Mean validation score: 0.509 (std: 0.019)\n",
      "Parameters: {'n_estimators': 827, 'min_samples_split': 10, 'min_samples_leaf': 1, 'max_features': 'sqrt', 'max_depth': 3, 'bootstrap': True}\n",
      "\n",
      "Model with rank: 10\n",
      "Mean validation score: 0.472 (std: 0.014)\n",
      "Parameters: {'n_estimators': 645, 'min_samples_split': 10, 'min_samples_leaf': 4, 'max_features': 'auto', 'max_depth': 2, 'bootstrap': True}\n",
      "\n",
      "Model with rank: 11\n",
      "Mean validation score: 0.471 (std: 0.015)\n",
      "Parameters: {'n_estimators': 1063, 'min_samples_split': 2, 'min_samples_leaf': 4, 'max_features': 'auto', 'max_depth': 2, 'bootstrap': True}\n",
      "\n",
      "Model with rank: 12\n",
      "Mean validation score: 0.470 (std: 0.014)\n",
      "Parameters: {'n_estimators': 918, 'min_samples_split': 5, 'min_samples_leaf': 2, 'max_features': 'auto', 'max_depth': 2, 'bootstrap': False}\n",
      "\n",
      "Model with rank: 13\n",
      "Mean validation score: 0.452 (std: 0.010)\n",
      "Parameters: {'n_estimators': 609, 'min_samples_split': 10, 'min_samples_leaf': 4, 'max_features': 'auto', 'max_depth': 3, 'bootstrap': True}\n",
      "\n",
      "Model with rank: 14\n",
      "Mean validation score: 0.452 (std: 0.009)\n",
      "Parameters: {'n_estimators': 518, 'min_samples_split': 2, 'min_samples_leaf': 4, 'max_features': 'auto', 'max_depth': 3, 'bootstrap': True}\n",
      "\n",
      "Model with rank: 15\n",
      "Mean validation score: 0.452 (std: 0.010)\n",
      "Parameters: {'n_estimators': 1054, 'min_samples_split': 10, 'min_samples_leaf': 2, 'max_features': 'auto', 'max_depth': 3, 'bootstrap': True}\n",
      "\n",
      "Model with rank: 16\n",
      "Mean validation score: 0.443 (std: 0.009)\n",
      "Parameters: {'n_estimators': 800, 'min_samples_split': 10, 'min_samples_leaf': 4, 'max_features': 'sqrt', 'max_depth': None, 'bootstrap': True}\n",
      "\n",
      "Model with rank: 17\n",
      "Mean validation score: 0.440 (std: 0.009)\n",
      "Parameters: {'n_estimators': 827, 'min_samples_split': 5, 'min_samples_leaf': 2, 'max_features': 'sqrt', 'max_depth': None, 'bootstrap': True}\n",
      "\n",
      "Model with rank: 18\n",
      "Mean validation score: 0.439 (std: 0.007)\n",
      "Parameters: {'n_estimators': 490, 'min_samples_split': 5, 'min_samples_leaf': 2, 'max_features': 'sqrt', 'max_depth': None, 'bootstrap': True}\n",
      "\n",
      "Model with rank: 19\n",
      "Mean validation score: 0.435 (std: 0.006)\n",
      "Parameters: {'n_estimators': 490, 'min_samples_split': 10, 'min_samples_leaf': 1, 'max_features': 'sqrt', 'max_depth': None, 'bootstrap': True}\n",
      "\n",
      "Model with rank: 20\n",
      "Mean validation score: 0.415 (std: 0.007)\n",
      "Parameters: {'n_estimators': 836, 'min_samples_split': 10, 'min_samples_leaf': 1, 'max_features': 'auto', 'max_depth': None, 'bootstrap': True}\n",
      "\n"
     ]
    }
   ],
   "source": [
    "report(rf.cv_results_, n_top=20)"
   ]
  },
  {
   "cell_type": "code",
   "execution_count": 38,
   "metadata": {},
   "outputs": [],
   "source": [
    "# filename = 'random_forest_gridsearchcv1.sav'\n",
    "# pickle.dump(rf.best_estimator_, open(filename, 'wb'))"
   ]
  },
  {
   "cell_type": "markdown",
   "metadata": {},
   "source": [
    "# ExtraTreesRegressor"
   ]
  },
  {
   "cell_type": "code",
   "execution_count": 39,
   "metadata": {},
   "outputs": [],
   "source": [
    "etr = GridSearchCV(ExtraTreesRegressor(criterion=\"mse\"),\n",
    "                   param_grid,\n",
    "                   cv = 5,\n",
    "                   scoring = scorer,\n",
    "                   n_jobs = -1,\n",
    "                   verbose = 1)"
   ]
  },
  {
   "cell_type": "code",
   "execution_count": 40,
   "metadata": {},
   "outputs": [
    {
     "name": "stdout",
     "output_type": "stream",
     "text": [
      "Fitting 5 folds for each of 400 candidates, totalling 2000 fits\n"
     ]
    },
    {
     "name": "stderr",
     "output_type": "stream",
     "text": [
      "[Parallel(n_jobs=-1)]: Done  42 tasks      | elapsed:  2.0min\n",
      "[Parallel(n_jobs=-1)]: Done 192 tasks      | elapsed:  9.1min\n",
      "[Parallel(n_jobs=-1)]: Done 442 tasks      | elapsed: 22.0min\n",
      "[Parallel(n_jobs=-1)]: Done 792 tasks      | elapsed: 39.2min\n",
      "[Parallel(n_jobs=-1)]: Done 1242 tasks      | elapsed: 67.4min\n",
      "[Parallel(n_jobs=-1)]: Done 1792 tasks      | elapsed: 108.3min\n",
      "[Parallel(n_jobs=-1)]: Done 2000 out of 2000 | elapsed: 125.8min finished\n"
     ]
    },
    {
     "data": {
      "text/plain": [
       "23.623642862137796"
      ]
     },
     "execution_count": 40,
     "metadata": {},
     "output_type": "execute_result"
    }
   ],
   "source": [
    "etr.fit(X_train, y_train)\n",
    "\n",
    "pred_etr = np.exp(etr.predict(X_test)) - 1\n",
    "pred_etr = pred_etr.reshape(-1, 1)\n",
    "\n",
    "df['pred_etr'] = pred_etr\n",
    "\n",
    "median_absolute_error(df['TARGET'],df['pred_etr'])"
   ]
  },
  {
   "cell_type": "code",
   "execution_count": 41,
   "metadata": {},
   "outputs": [],
   "source": [
    "# filename = 'extra_trees_gridsearchcv1.sav'\n",
    "# pickle.dump(etr.best_estimator_, open(filename, 'wb'))"
   ]
  }
 ],
 "metadata": {
  "kernelspec": {
   "display_name": "Python 3",
   "language": "python",
   "name": "python3"
  },
  "language_info": {
   "codemirror_mode": {
    "name": "ipython",
    "version": 3
   },
   "file_extension": ".py",
   "mimetype": "text/x-python",
   "name": "python",
   "nbconvert_exporter": "python",
   "pygments_lexer": "ipython3",
   "version": "3.6.5"
  },
  "varInspector": {
   "cols": {
    "lenName": 16,
    "lenType": 16,
    "lenVar": 40
   },
   "kernels_config": {
    "python": {
     "delete_cmd_postfix": "",
     "delete_cmd_prefix": "del ",
     "library": "var_list.py",
     "varRefreshCmd": "print(var_dic_list())"
    },
    "r": {
     "delete_cmd_postfix": ") ",
     "delete_cmd_prefix": "rm(",
     "library": "var_list.r",
     "varRefreshCmd": "cat(var_dic_list()) "
    }
   },
   "types_to_exclude": [
    "module",
    "function",
    "builtin_function_or_method",
    "instance",
    "_Feature"
   ],
   "window_display": false
  }
 },
 "nbformat": 4,
 "nbformat_minor": 2
}
