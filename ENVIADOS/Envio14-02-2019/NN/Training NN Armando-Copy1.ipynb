{
 "cells": [
  {
   "cell_type": "code",
   "execution_count": 10,
   "metadata": {
    "ExecuteTime": {
     "end_time": "2019-02-14T20:42:59.752120Z",
     "start_time": "2019-02-14T20:42:46.852507Z"
    }
   },
   "outputs": [],
   "source": [
    "import numpy as np\n",
    "import pandas as pd\n",
    "import keras\n",
    "from keras.optimizers import Adam\n",
    "\n",
    "from keras.models import Model\n",
    "\n",
    "from keras.layers import Activation, Dense, Dropout\n",
    "\n",
    "from keras.models import Sequential\n",
    "\n",
    "from keras.wrappers.scikit_learn import KerasRegressor\n",
    "\n",
    "from sklearn.model_selection import cross_val_score\n",
    "\n",
    "from sklearn.model_selection import KFold\n",
    "from sklearn.metrics import fbeta_score, make_scorer\n",
    "from sklearn.preprocessing import MinMaxScaler\n",
    "from sklearn.model_selection import train_test_split\n",
    "from sklearn.pipeline import Pipeline\n",
    "import tensorflow as tf\n",
    "\n",
    "from sklearn.metrics import median_absolute_error\n",
    "\n",
    "from textblob import TextBlob\n"
   ]
  },
  {
   "cell_type": "code",
   "execution_count": 24,
   "metadata": {
    "ExecuteTime": {
     "end_time": "2019-02-14T20:48:42.097700Z",
     "start_time": "2019-02-14T20:48:42.087760Z"
    }
   },
   "outputs": [],
   "source": [
    "def word_count(str):\n",
    "    counts = dict()\n",
    "    words = str.split()\n",
    "\n",
    "    for word in words:\n",
    "        if word in counts:\n",
    "            counts[word] += 1\n",
    "        else:\n",
    "            counts[word] = 1\n",
    "\n",
    "    return counts\n",
    "\n",
    "def variables_from_text(text):\n",
    "    \n",
    "    rep = []\n",
    "    \n",
    "    #positividad = []\n",
    "    \n",
    "    longitud_palabras = []\n",
    "    \n",
    "    if text == \"\":\n",
    "        \n",
    "        rep.append(0)\n",
    "        \n",
    "        positividad.append(0)\n",
    "        \n",
    "        longitud_palabras.append(0)\n",
    "        \n",
    "        return rep, positividad, longitud_palabras\n",
    "        \n",
    "    else:\n",
    "        \n",
    "        counter = word_count(text)\n",
    "    \n",
    "        for key in counter.keys():\n",
    "            rep.append(counter[key])\n",
    "            \n",
    "            longitud_palabras.append(len(key))\n",
    "            \n",
    "        long_media = np.mean(longitud_palabras)\n",
    "        \n",
    "        rep_media = np.mean(rep)\n",
    "        \n",
    "        positividad = TextBlob(text).sentiment.polarity\n",
    "        \n",
    "        subjectivity = TextBlob(text).sentiment.subjectivity\n",
    "        \n",
    "        return rep_media, positividad, long_media, subjectivity\n",
    "    \n",
    "def fill_with_textvars(df):\n",
    "    \n",
    "    rep, pos, long, subj = [], [], [], []\n",
    "    \n",
    "    for i in range(df.shape[0]):\n",
    "        \n",
    "        r, p, l, s = variables_from_text(str(df['descr'].iloc[i]))\n",
    "        \n",
    "        rep.append(r)\n",
    "        \n",
    "        pos.append(p)\n",
    "        \n",
    "        long.append(l)\n",
    "        \n",
    "        subj.append(s)\n",
    "        \n",
    "    df['subj'] = subj\n",
    "    \n",
    "    df['pos'] = pos\n",
    "    \n",
    "    df['rep'] = rep\n",
    "    \n",
    "    df['long'] = long\n",
    "    \n",
    "    df.drop('descr', axis = 1, inplace = True)\n",
    "    df.drop('distr', axis = 1, inplace = True)\n",
    "    return df"
   ]
  },
  {
   "cell_type": "code",
   "execution_count": 25,
   "metadata": {
    "ExecuteTime": {
     "end_time": "2019-02-14T20:49:01.307907Z",
     "start_time": "2019-02-14T20:48:44.586609Z"
    }
   },
   "outputs": [],
   "source": [
    "# Importacion de datos\n",
    "data=pd.read_csv('transformados07.csv')\n",
    "# Creacion de nuevas variables\n",
    "data['exit_rate_page_views'] = data['GA_exit_rate']*data['GA_page_views']\n",
    "data['views_precio_metro'] = data['GA_page_views'] * data['precio_metros']\n",
    "\n",
    "data = fill_with_textvars(df = data)\n"
   ]
  },
  {
   "cell_type": "code",
   "execution_count": 26,
   "metadata": {
    "ExecuteTime": {
     "end_time": "2019-02-14T20:49:01.493444Z",
     "start_time": "2019-02-14T20:49:01.470497Z"
    }
   },
   "outputs": [],
   "source": [
    "# Separacion datasets\n",
    "y=data['TARGET']\n",
    "X=data.copy().drop('TARGET', axis=1)"
   ]
  },
  {
   "cell_type": "code",
   "execution_count": 1,
   "metadata": {
    "ExecuteTime": {
     "end_time": "2019-02-14T20:38:22.138446Z",
     "start_time": "2019-02-14T20:38:22.007831Z"
    }
   },
   "outputs": [
    {
     "ename": "NameError",
     "evalue": "name 'train_test_split' is not defined",
     "output_type": "error",
     "traceback": [
      "\u001b[1;31m---------------------------------------------------------------------------\u001b[0m",
      "\u001b[1;31mNameError\u001b[0m                                 Traceback (most recent call last)",
      "\u001b[1;32m<ipython-input-1-fe04b833d6b3>\u001b[0m in \u001b[0;36m<module>\u001b[1;34m()\u001b[0m\n\u001b[1;32m----> 1\u001b[1;33m \u001b[0mX_train\u001b[0m\u001b[1;33m,\u001b[0m \u001b[0mX_test\u001b[0m\u001b[1;33m,\u001b[0m \u001b[0my_train\u001b[0m\u001b[1;33m,\u001b[0m \u001b[0my_test\u001b[0m \u001b[1;33m=\u001b[0m \u001b[0mtrain_test_split\u001b[0m\u001b[1;33m(\u001b[0m\u001b[0mX\u001b[0m\u001b[1;33m,\u001b[0m \u001b[0my\u001b[0m\u001b[1;33m,\u001b[0m \u001b[0mtest_size\u001b[0m\u001b[1;33m=\u001b[0m\u001b[1;36m0.15\u001b[0m\u001b[1;33m,\u001b[0m \u001b[0mrandom_state\u001b[0m\u001b[1;33m=\u001b[0m\u001b[1;36m69\u001b[0m\u001b[1;33m)\u001b[0m\u001b[1;33m\u001b[0m\u001b[0m\n\u001b[0m",
      "\u001b[1;31mNameError\u001b[0m: name 'train_test_split' is not defined"
     ]
    }
   ],
   "source": [
    "# X_train, X_test, y_train, y_test = train_test_split(X, y, test_size=0, random_state=69)"
   ]
  },
  {
   "cell_type": "code",
   "execution_count": 27,
   "metadata": {
    "ExecuteTime": {
     "end_time": "2019-02-14T20:49:01.653018Z",
     "start_time": "2019-02-14T20:49:01.644040Z"
    }
   },
   "outputs": [],
   "source": [
    "def NN(dropout = 0.15):\n",
    "  #Model Creation\n",
    "  \n",
    "    model = Sequential()\n",
    "  \n",
    "  #first hidden layer\n",
    "    model.add(Dense(100, input_dim=137, kernel_initializer='normal', activation='relu'))\n",
    "  \n",
    "    model.add(Dropout(dropout))\n",
    "  \n",
    "  #second hidden layer\n",
    "    model.add(Dense(50, kernel_initializer = 'normal', activation = 'relu'))\n",
    "  \n",
    "    model.add(Dropout(dropout))\n",
    "  \n",
    "  #Third hidden layer\n",
    "    model.add(Dense(20, kernel_initializer = 'normal', activation = 'relu'))\n",
    "  \n",
    "    model.add(Dropout(dropout/2))\n",
    "    \n",
    "    model.add(Dense(20, kernel_initializer = 'normal', activation = 'relu'))\n",
    "    \n",
    "    model.add(Dropout(dropout/2))\n",
    "    \n",
    "    model.add(Dense(10, kernel_initializer = 'normal', activation = 'relu'))\n",
    "  \n",
    "  #Fourth hidden layer (output neuron)\n",
    "    model.add(Dense(1, kernel_initializer = 'normal'))\n",
    "  \n",
    "  #Compile Model. \n",
    "    model.compile(loss = \"mse\",\n",
    "               optimizer = 'adam')\n",
    "  \n",
    "    return model"
   ]
  },
  {
   "cell_type": "code",
   "execution_count": 28,
   "metadata": {
    "ExecuteTime": {
     "end_time": "2019-02-14T20:49:01.806600Z",
     "start_time": "2019-02-14T20:49:01.803597Z"
    }
   },
   "outputs": [],
   "source": [
    "# Lista de callbacks\n",
    "# callbacks_list = [\n",
    "#     keras.callbacks.EarlyStopping(monitor='loss', min_delta=0, patience=4, verbose=1, mode='auto', baseline=None, restore_best_weights=False),\n",
    "#     keras.callbacks.History()]\n",
    "callbacks_list = [keras.callbacks.History()]"
   ]
  },
  {
   "cell_type": "code",
   "execution_count": 29,
   "metadata": {
    "ExecuteTime": {
     "end_time": "2019-02-14T20:49:25.324217Z",
     "start_time": "2019-02-14T20:49:04.067376Z"
    }
   },
   "outputs": [],
   "source": [
    "# Model Training\n",
    "# epochs=np.arange(20, 600, 50)\n",
    "# batch_sizes = np.arange(128,129, 500)\n",
    "# results_train=[]\n",
    "# results=[]\n",
    "\n",
    "model=NN()\n",
    "\n",
    "# for e in epochs:\n",
    "#     for b in batch_sizes:\n",
    "#         tf.random.set_random_seed(69)\n",
    "#         with tf.device('/device:GPU:0'):\n",
    "#             model.fit(X_train, y_train, epochs=e, batch_size=b,verbose=False, callbacks=callbacks_list)\n",
    "#         results_train.append(median_absolute_error(np.exp(y_train) - 1, np.exp(model.predict(X_train)) - 1))\n",
    "#         results.append(median_absolute_error(np.exp(y_test) - 1, np.exp(model.predict(X_test)) - 1))\n",
    "\n",
    "tf.random.set_random_seed(69)\n",
    "with tf.device('/device:GPU:0'):\n",
    "    model.fit(X, y, epochs=70, batch_size=128,verbose=False, callbacks=callbacks_list)\n",
    "# results_train.append(median_absolute_error(np.exp(y_train) - 1, np.exp(model.predict(X_train)) - 1))\n",
    "# results.append(median_absolute_error(np.exp(y_test) - 1, np.exp(model.predict(X_test)) - 1))"
   ]
  },
  {
   "cell_type": "code",
   "execution_count": 59,
   "metadata": {
    "ExecuteTime": {
     "end_time": "2019-02-14T12:04:36.198736Z",
     "start_time": "2019-02-14T12:04:36.119914Z"
    },
    "scrolled": true
   },
   "outputs": [
    {
     "data": {
      "text/plain": [
       "[<matplotlib.lines.Line2D at 0x27d7a5aa6d8>]"
      ]
     },
     "execution_count": 59,
     "metadata": {},
     "output_type": "execute_result"
    },
    {
     "data": {
      "image/png": "[encoded data removed]",
      "text/plain": [
       "<Figure size 432x288 with 1 Axes>"
      ]
     },
     "metadata": {
      "needs_background": "light"
     },
     "output_type": "display_data"
    }
   ],
   "source": [
    "# import matplotlib.pyplot as plt\n",
    "# import seaborn as sns\n",
    "# %matplotlib inline\n",
    "# plt.plot(epochs,results, color='royalblue')\n",
    "# plt.plot(epochs,results_train, color='red')"
   ]
  },
  {
   "cell_type": "code",
   "execution_count": null,
   "metadata": {},
   "outputs": [],
   "source": []
  },
  {
   "cell_type": "code",
   "execution_count": 9,
   "metadata": {
    "ExecuteTime": {
     "end_time": "2019-02-14T11:20:56.610597Z",
     "start_time": "2019-02-14T11:20:56.607616Z"
    }
   },
   "outputs": [],
   "source": [
    "# Para hacer cross validation con keras\n",
    "# estimators = []\n",
    "\n",
    "# estimators.append(KerasRegressor(build_fn=NN().fit(X_train, y_train), \n",
    "#                                          epochs=60, batch_size=12, verbose=1))\n",
    "# pipeline = Pipeline(estimators)\n",
    "# kfold = KFold(n_splits=5, random_state=7)\n",
    "# results = cross_val_score(pipeline, X_train, y_train, scoring=make_scorer(sklearn.metrics.median_absolute_error)\n",
    "# ,cv=kfold)\n",
    "# print(\"Wider: %.2f (%.2f) Median Absolute Error\" % (results.mean(), results.std()))"
   ]
  },
  {
   "cell_type": "code",
   "execution_count": null,
   "metadata": {},
   "outputs": [],
   "source": []
  }
 ],
 "metadata": {
  "kernelspec": {
   "display_name": "Python 3",
   "language": "python",
   "name": "python3"
  },
  "language_info": {
   "codemirror_mode": {
    "name": "ipython",
    "version": 3
   },
   "file_extension": ".py",
   "mimetype": "text/x-python",
   "name": "python",
   "nbconvert_exporter": "python",
   "pygments_lexer": "ipython3",
   "version": "3.7.0"
  },
  "varInspector": {
   "cols": {
    "lenName": 16,
    "lenType": 16,
    "lenVar": 40
   },
   "kernels_config": {
    "python": {
     "delete_cmd_postfix": "",
     "delete_cmd_prefix": "del ",
     "library": "var_list.py",
     "varRefreshCmd": "print(var_dic_list())"
    },
    "r": {
     "delete_cmd_postfix": ") ",
     "delete_cmd_prefix": "rm(",
     "library": "var_list.r",
     "varRefreshCmd": "cat(var_dic_list()) "
    }
   },
   "position": {
    "height": "508.722px",
    "left": "1344.55px",
    "right": "20px",
    "top": "120px",
    "width": "344.176px"
   },
   "types_to_exclude": [
    "module",
    "function",
    "builtin_function_or_method",
    "instance",
    "_Feature"
   ],
   "window_display": false
  }
 },
 "nbformat": 4,
 "nbformat_minor": 2
}
